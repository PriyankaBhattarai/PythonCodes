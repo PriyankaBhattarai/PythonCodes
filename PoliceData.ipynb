{
  "nbformat": 4,
  "nbformat_minor": 0,
  "metadata": {
    "colab": {
      "provenance": []
    },
    "kernelspec": {
      "name": "python3",
      "display_name": "Python 3"
    },
    "language_info": {
      "name": "python"
    }
  },
  "cells": [
    {
      "cell_type": "code",
      "execution_count": 1,
      "metadata": {
        "id": "2y-QkUe-0GHd"
      },
      "outputs": [],
      "source": [
        "import pandas as pd"
      ]
    },
    {
      "cell_type": "code",
      "source": [
        "#Q. 1) Instruction ( For Data Cleaning ) - Remove the column that only contains missing values.\n",
        "police_data = pd.read_csv(\"Police.csv\")\n",
        "police_data.dropna(axis=1, how='all', inplace=True)"
      ],
      "metadata": {
        "id": "_JfMQPxJ0G53"
      },
      "execution_count": 4,
      "outputs": []
    },
    {
      "cell_type": "code",
      "source": [
        "#Q. 2) Question ( Based on Filtering + Value Counts ) - For Speeding , were Men or Women stopped more often ?\n",
        "speeding_stops = police_data[police_data['violation'] == 'Speeding']\n",
        "speeding_counts = speeding_stops['driver_gender'].value_counts()\n",
        "print(\"For Speeding, men were stopped more often.\" if speeding_counts['M'] > speeding_counts['F'] else \"For Speeding, women were stopped more often.\")"
      ],
      "metadata": {
        "colab": {
          "base_uri": "https://localhost:8080/"
        },
        "id": "9Lx8hsN-0KYM",
        "outputId": "3c8b5055-c5a2-4c67-f23d-3f9813eca075"
      },
      "execution_count": 5,
      "outputs": [
        {
          "output_type": "stream",
          "name": "stdout",
          "text": [
            "For Speeding, men were stopped more often.\n"
          ]
        }
      ]
    },
    {
      "cell_type": "code",
      "source": [
        "#Q. 3) Question ( Groupby ) - Does gender affect who gets searched during a stop ?\n",
        "searched_gender = police_data.groupby('driver_gender')['search_conducted'].value_counts(normalize=True)\n",
        "print(searched_gender)"
      ],
      "metadata": {
        "colab": {
          "base_uri": "https://localhost:8080/"
        },
        "id": "5keV1rcF0SUE",
        "outputId": "d770d7d2-8e71-47f5-b21d-919c3133999c"
      },
      "execution_count": 6,
      "outputs": [
        {
          "output_type": "stream",
          "name": "stdout",
          "text": [
            "driver_gender  search_conducted\n",
            "F              False               0.977560\n",
            "               True                0.022440\n",
            "M              False               0.953215\n",
            "               True                0.046785\n",
            "Name: search_conducted, dtype: float64\n"
          ]
        }
      ]
    },
    {
      "cell_type": "code",
      "source": [
        "\n",
        "#Q. 4) Question ( mapping + data-type casting ) - What is the mean stop_duration ?\n",
        "# First, clean the 'stop_duration' column and convert it to numerical values\n",
        "police_data['stop_duration'] = police_data['stop_duration'].map({'0-15 Min': 7.5, '16-30 Min': 23, '30+ Min': 45})\n",
        "\n",
        "# Now calculate the mean stop_duration\n",
        "mean_stop_duration = police_data['stop_duration'].mean()\n",
        "print(\"Mean stop duration:\", mean_stop_duration)"
      ],
      "metadata": {
        "colab": {
          "base_uri": "https://localhost:8080/"
        },
        "id": "dSoikOz60T2D",
        "outputId": "41992eb8-8536-42d3-d331-f26ffd2ebd47"
      },
      "execution_count": 7,
      "outputs": [
        {
          "output_type": "stream",
          "name": "stdout",
          "text": [
            "Mean stop duration: 12.001195627419722\n"
          ]
        }
      ]
    },
    {
      "cell_type": "code",
      "source": [
        "#Q. 5) Question ( Groupby , Describe ) - Compare the age distributions for each violation\n",
        "age_comparison = police_data.groupby('violation')['driver_age'].describe()\n",
        "print(age_comparison)"
      ],
      "metadata": {
        "colab": {
          "base_uri": "https://localhost:8080/"
        },
        "id": "emM9yn0d0W33",
        "outputId": "0b6e0efa-7eff-4c23-9395-3e03753af491"
      },
      "execution_count": 8,
      "outputs": [
        {
          "output_type": "stream",
          "name": "stdout",
          "text": [
            "                       count       mean        std   min   25%   50%   75%  \\\n",
            "violation                                                                    \n",
            "Equipment             6507.0  31.682957  11.380671  16.0  23.0  28.0  39.0   \n",
            "Moving violation     11876.0  36.736443  13.258350  15.0  25.0  35.0  47.0   \n",
            "Other                 3477.0  40.362381  12.754423  16.0  30.0  41.0  50.0   \n",
            "Registration/plates   2240.0  32.656696  11.150780  16.0  24.0  30.0  40.0   \n",
            "Seat belt                3.0  30.333333  10.214369  23.0  24.5  26.0  34.0   \n",
            "Speeding             37120.0  33.262581  12.615781  15.0  23.0  30.0  42.0   \n",
            "\n",
            "                      max  \n",
            "violation                  \n",
            "Equipment            81.0  \n",
            "Moving violation     86.0  \n",
            "Other                86.0  \n",
            "Registration/plates  74.0  \n",
            "Seat belt            42.0  \n",
            "Speeding             88.0  \n"
          ]
        }
      ]
    },
    {
      "cell_type": "code",
      "source": [],
      "metadata": {
        "id": "-2rQsCLk06h-"
      },
      "execution_count": null,
      "outputs": []
    }
  ]
}