{
  "nbformat": 4,
  "nbformat_minor": 0,
  "metadata": {
    "colab": {
      "provenance": []
    },
    "kernelspec": {
      "name": "python3",
      "display_name": "Python 3"
    },
    "language_info": {
      "name": "python"
    }
  },
  "cells": [
    {
      "cell_type": "code",
      "execution_count": 3,
      "metadata": {
        "id": "iK1V-YL7qhmM"
      },
      "outputs": [],
      "source": [
        "import pandas as pd"
      ]
    },
    {
      "cell_type": "code",
      "source": [
        "# 1) Instruction ( For Data Cleaning ) - Find all Null Values in the dataset. If there is any null value in any column, then fill it with the mean of that column\n",
        "\n",
        "df = pd.read_csv(\"sample_data/cars.csv\")\n",
        "\n",
        "null_values = df.isnull().sum()\n",
        "print(\"Null Values in the Dataset:\")\n",
        "print(null_values)\n",
        "\n",
        "for column in df.columns:\n",
        "    if df[column].isnull().sum() > 0:\n",
        "        if pd.api.types.is_numeric_dtype(df[column]):\n",
        "            mean_value = df[column].mean()\n",
        "            df[column].fillna(mean_value, inplace=True)\n",
        "        else:\n",
        "            df[column].fillna(\"Unknown\", inplace=True)\n",
        "\n",
        "null_values_after_fill = df.isnull().sum()\n",
        "print(\"\\nNull Values After Filling:\")\n",
        "print(null_values_after_fill)\n",
        "\n",
        "df.to_csv(\"cleaned_cars.csv\", index=False)"
      ],
      "metadata": {
        "colab": {
          "base_uri": "https://localhost:8080/"
        },
        "id": "f-_kuDbSs7Dx",
        "outputId": "1fdb4760-2917-4eea-8a63-ad4de6d58a2e"
      },
      "execution_count": 4,
      "outputs": [
        {
          "output_type": "stream",
          "name": "stdout",
          "text": [
            "Null Values in the Dataset:\n",
            "Make           4\n",
            "Model          4\n",
            "Type           4\n",
            "Origin         4\n",
            "DriveTrain     4\n",
            "MSRP           4\n",
            "Invoice        4\n",
            "EngineSize     4\n",
            "Cylinders      6\n",
            "Horsepower     4\n",
            "MPG_City       4\n",
            "MPG_Highway    4\n",
            "Weight         4\n",
            "Wheelbase      4\n",
            "Length         4\n",
            "dtype: int64\n",
            "\n",
            "Null Values After Filling:\n",
            "Make           0\n",
            "Model          0\n",
            "Type           0\n",
            "Origin         0\n",
            "DriveTrain     0\n",
            "MSRP           0\n",
            "Invoice        0\n",
            "EngineSize     0\n",
            "Cylinders      0\n",
            "Horsepower     0\n",
            "MPG_City       0\n",
            "MPG_Highway    0\n",
            "Weight         0\n",
            "Wheelbase      0\n",
            "Length         0\n",
            "dtype: int64\n"
          ]
        }
      ]
    },
    {
      "cell_type": "code",
      "source": [
        "# 2) Question ( Based on Value Counts )- Check what are the different types of Make are there in our dataset. And, what is the count (occurrence) of each Make in the data ?\n",
        "\n",
        "make_counts = df['Make'].value_counts()\n",
        "\n",
        "print(\"Different types of Make and their counts:\")\n",
        "print(make_counts)\n"
      ],
      "metadata": {
        "colab": {
          "base_uri": "https://localhost:8080/"
        },
        "id": "DRyEhjAkwGeB",
        "outputId": "0da972a3-bc52-47b4-f766-92748e59176a"
      },
      "execution_count": 6,
      "outputs": [
        {
          "output_type": "stream",
          "name": "stdout",
          "text": [
            "Different types of Make and their counts:\n",
            "Toyota           28\n",
            "Chevrolet        27\n",
            "Mercedes-Benz    26\n",
            "Ford             23\n",
            "BMW              20\n",
            "Audi             19\n",
            "Nissan           17\n",
            "Honda            17\n",
            "Chrysler         15\n",
            "Volkswagen       15\n",
            "Mitsubishi       13\n",
            "Dodge            13\n",
            "Hyundai          12\n",
            "Jaguar           12\n",
            "Volvo            12\n",
            "Kia              11\n",
            "Mazda            11\n",
            "Lexus            11\n",
            "Pontiac          11\n",
            "Subaru           11\n",
            "Lincoln           9\n",
            "Mercury           9\n",
            "Buick             9\n",
            "Saturn            8\n",
            "Infiniti          8\n",
            "GMC               8\n",
            "Cadillac          8\n",
            "Suzuki            8\n",
            "Porsche           7\n",
            "Saab              7\n",
            "Acura             7\n",
            "Unknown           4\n",
            "Oldsmobile        3\n",
            "Jeep              3\n",
            "Land Rover        3\n",
            "MINI              2\n",
            "Scion             2\n",
            "Isuzu             2\n",
            "Hummer            1\n",
            "Name: Make, dtype: int64\n"
          ]
        }
      ]
    },
    {
      "cell_type": "code",
      "source": [
        "# 3) Instruction ( Filtering ) - Show all the records where Origin is Asia or Europe\n",
        "\n",
        "filtered_df = df[(df['Origin'] == 'Asia') | (df['Origin'] == 'Europe')]\n",
        "\n",
        "print(\"Records where Origin is Asia or Europe:\")\n",
        "print(filtered_df)\n"
      ],
      "metadata": {
        "colab": {
          "base_uri": "https://localhost:8080/"
        },
        "id": "9wXU7p3EwYJ6",
        "outputId": "a5e04725-7669-4357-c6ef-f47b1229b9b3"
      },
      "execution_count": 7,
      "outputs": [
        {
          "output_type": "stream",
          "name": "stdout",
          "text": [
            "Records where Origin is Asia or Europe:\n",
            "      Make                    Model   Type  Origin DriveTrain      MSRP  \\\n",
            "0    Acura                      MDX    SUV    Asia        All  $36,945    \n",
            "1    Acura           RSX Type S 2dr  Sedan    Asia      Front  $23,820    \n",
            "2    Acura                  TSX 4dr  Sedan    Asia      Front  $26,990    \n",
            "3    Acura                   TL 4dr  Sedan    Asia      Front  $33,195    \n",
            "4    Acura               3.5 RL 4dr  Sedan    Asia      Front  $43,755    \n",
            "..     ...                      ...    ...     ...        ...       ...   \n",
            "427  Volvo  C70 LPT convertible 2dr  Sedan  Europe      Front  $40,565    \n",
            "428  Volvo  C70 HPT convertible 2dr  Sedan  Europe      Front  $42,565    \n",
            "429  Volvo               S80 T6 4dr  Sedan  Europe      Front  $45,210    \n",
            "430  Volvo                      V40  Wagon  Europe      Front  $26,135    \n",
            "431  Volvo                     XC70  Wagon  Europe        All  $35,145    \n",
            "\n",
            "      Invoice  EngineSize  Cylinders  Horsepower  MPG_City  MPG_Highway  \\\n",
            "0    $33,337          3.5        6.0       265.0      17.0         23.0   \n",
            "1    $21,761          2.0        4.0       200.0      24.0         31.0   \n",
            "2    $24,647          2.4        4.0       200.0      22.0         29.0   \n",
            "3    $30,299          3.2        6.0       270.0      20.0         28.0   \n",
            "4    $39,014          3.5        6.0       225.0      18.0         24.0   \n",
            "..        ...         ...        ...         ...       ...          ...   \n",
            "427  $38,203          2.4        5.0       197.0      21.0         28.0   \n",
            "428  $40,083          2.3        5.0       242.0      20.0         26.0   \n",
            "429  $42,573          2.9        6.0       268.0      19.0         26.0   \n",
            "430  $24,641          1.9        4.0       170.0      22.0         29.0   \n",
            "431  $33,112          2.5        5.0       208.0      20.0         27.0   \n",
            "\n",
            "     Weight  Wheelbase  Length  \n",
            "0    4451.0      106.0   189.0  \n",
            "1    2778.0      101.0   172.0  \n",
            "2    3230.0      105.0   183.0  \n",
            "3    3575.0      108.0   186.0  \n",
            "4    3880.0      115.0   197.0  \n",
            "..      ...        ...     ...  \n",
            "427  3450.0      105.0   186.0  \n",
            "428  3450.0      105.0   186.0  \n",
            "429  3653.0      110.0   190.0  \n",
            "430  2822.0      101.0   180.0  \n",
            "431  3823.0      109.0   186.0  \n",
            "\n",
            "[281 rows x 15 columns]\n"
          ]
        }
      ]
    },
    {
      "cell_type": "code",
      "source": [
        "# 4) Instruction ( Removing unwanted records ) - Remove all the records (rows) where Weight is above 4000.\n",
        "\n",
        "filtered_df = df[df['Weight'] <= 4000]\n",
        "\n",
        "print(\"Records where Weight is not above 4000:\")\n",
        "print(filtered_df)"
      ],
      "metadata": {
        "colab": {
          "base_uri": "https://localhost:8080/"
        },
        "id": "HGD02XdbwmDR",
        "outputId": "e9308cdb-f4a2-417b-8384-877494c02ebf"
      },
      "execution_count": 9,
      "outputs": [
        {
          "output_type": "stream",
          "name": "stdout",
          "text": [
            "Records where Weight is not above 4000:\n",
            "      Make                    Model   Type  Origin DriveTrain      MSRP  \\\n",
            "1    Acura           RSX Type S 2dr  Sedan    Asia      Front  $23,820    \n",
            "2    Acura                  TSX 4dr  Sedan    Asia      Front  $26,990    \n",
            "3    Acura                   TL 4dr  Sedan    Asia      Front  $33,195    \n",
            "4    Acura               3.5 RL 4dr  Sedan    Asia      Front  $43,755    \n",
            "5    Acura  3.5 RL w/Navigation 4dr  Sedan    Asia      Front  $46,100    \n",
            "..     ...                      ...    ...     ...        ...       ...   \n",
            "427  Volvo  C70 LPT convertible 2dr  Sedan  Europe      Front  $40,565    \n",
            "428  Volvo  C70 HPT convertible 2dr  Sedan  Europe      Front  $42,565    \n",
            "429  Volvo               S80 T6 4dr  Sedan  Europe      Front  $45,210    \n",
            "430  Volvo                      V40  Wagon  Europe      Front  $26,135    \n",
            "431  Volvo                     XC70  Wagon  Europe        All  $35,145    \n",
            "\n",
            "      Invoice  EngineSize  Cylinders  Horsepower  MPG_City  MPG_Highway  \\\n",
            "1    $21,761          2.0        4.0       200.0      24.0         31.0   \n",
            "2    $24,647          2.4        4.0       200.0      22.0         29.0   \n",
            "3    $30,299          3.2        6.0       270.0      20.0         28.0   \n",
            "4    $39,014          3.5        6.0       225.0      18.0         24.0   \n",
            "5    $41,100          3.5        6.0       225.0      18.0         24.0   \n",
            "..        ...         ...        ...         ...       ...          ...   \n",
            "427  $38,203          2.4        5.0       197.0      21.0         28.0   \n",
            "428  $40,083          2.3        5.0       242.0      20.0         26.0   \n",
            "429  $42,573          2.9        6.0       268.0      19.0         26.0   \n",
            "430  $24,641          1.9        4.0       170.0      22.0         29.0   \n",
            "431  $33,112          2.5        5.0       208.0      20.0         27.0   \n",
            "\n",
            "     Weight  Wheelbase  Length  \n",
            "1    2778.0      101.0   172.0  \n",
            "2    3230.0      105.0   183.0  \n",
            "3    3575.0      108.0   186.0  \n",
            "4    3880.0      115.0   197.0  \n",
            "5    3893.0      115.0   197.0  \n",
            "..      ...        ...     ...  \n",
            "427  3450.0      105.0   186.0  \n",
            "428  3450.0      105.0   186.0  \n",
            "429  3653.0      110.0   190.0  \n",
            "430  2822.0      101.0   180.0  \n",
            "431  3823.0      109.0   186.0  \n",
            "\n",
            "[329 rows x 15 columns]\n"
          ]
        }
      ]
    },
    {
      "cell_type": "code",
      "source": [
        "# 5) Instruction ( Applying function on a column ) - Increase all the values of 'MPG_City' column by 3.\n",
        "\n",
        "def increase_by_3(x):\n",
        "    return x + 3\n",
        "\n",
        "df['MPG_City'] = df['MPG_City'].apply(increase_by_3)\n",
        "\n",
        "print(\"Updated MPG_City column:\")\n",
        "print(df['MPG_City'])"
      ],
      "metadata": {
        "colab": {
          "base_uri": "https://localhost:8080/"
        },
        "id": "d1gYCMCPwxtH",
        "outputId": "3746fa27-172e-46af-e0f1-cdbc3a60c356"
      },
      "execution_count": 10,
      "outputs": [
        {
          "output_type": "stream",
          "name": "stdout",
          "text": [
            "Updated MPG_City column:\n",
            "0      20.0\n",
            "1      27.0\n",
            "2      25.0\n",
            "3      23.0\n",
            "4      21.0\n",
            "       ... \n",
            "427    24.0\n",
            "428    23.0\n",
            "429    22.0\n",
            "430    25.0\n",
            "431    23.0\n",
            "Name: MPG_City, Length: 432, dtype: float64\n"
          ]
        }
      ]
    },
    {
      "cell_type": "code",
      "source": [],
      "metadata": {
        "id": "NXGZu645w-yi"
      },
      "execution_count": null,
      "outputs": []
    }
  ]
}