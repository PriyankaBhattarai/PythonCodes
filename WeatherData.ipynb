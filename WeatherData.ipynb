{
  "nbformat": 4,
  "nbformat_minor": 0,
  "metadata": {
    "colab": {
      "provenance": []
    },
    "kernelspec": {
      "name": "python3",
      "display_name": "Python 3"
    },
    "language_info": {
      "name": "python"
    }
  },
  "cells": [
    {
      "cell_type": "code",
      "execution_count": 1,
      "metadata": {
        "id": "KmZv3EJygE7p"
      },
      "outputs": [],
      "source": [
        "import pandas as pd"
      ]
    },
    {
      "cell_type": "code",
      "source": [
        "# 1. Find all the unique 'Wind Speed' values in the data.\n",
        "data = pd.read_csv(\"sample_data/weather.csv\")\n",
        "unique_wind_speeds = data['Wind Speed_km/h'].unique()\n",
        "\n",
        "print(\"Unique Wind Speed values:\")\n",
        "for speed in unique_wind_speeds:\n",
        "    print(speed)"
      ],
      "metadata": {
        "colab": {
          "base_uri": "https://localhost:8080/"
        },
        "id": "vqByB_JCgd7W",
        "outputId": "93b85509-b784-41c0-83f4-98cd4715c3ab"
      },
      "execution_count": 5,
      "outputs": [
        {
          "output_type": "stream",
          "name": "stdout",
          "text": [
            "Unique Wind Speed values:\n",
            "4\n",
            "7\n",
            "6\n",
            "9\n",
            "15\n",
            "13\n",
            "20\n",
            "22\n",
            "19\n",
            "24\n",
            "30\n",
            "35\n",
            "39\n",
            "32\n",
            "33\n",
            "26\n",
            "44\n",
            "43\n",
            "48\n",
            "37\n",
            "28\n",
            "17\n",
            "11\n",
            "0\n",
            "83\n",
            "70\n",
            "57\n",
            "46\n",
            "41\n",
            "52\n",
            "50\n",
            "63\n",
            "54\n",
            "2\n"
          ]
        }
      ]
    },
    {
      "cell_type": "code",
      "source": [
        "# 2) Find the number of times when the 'Weather is exactly Clear'.\n",
        "\n",
        "clear_weather_count = data[data['Weather'].str.strip().str.lower() == 'clear'].shape[0]\n",
        "print(\"Number of times when the Weather is exactly Clear:\", clear_weather_count)"
      ],
      "metadata": {
        "colab": {
          "base_uri": "https://localhost:8080/"
        },
        "id": "ruC9g8bWgi7p",
        "outputId": "7e5518d9-adb9-49dc-8561-a73c5b4198c5"
      },
      "execution_count": 6,
      "outputs": [
        {
          "output_type": "stream",
          "name": "stdout",
          "text": [
            "Number of times when the Weather is exactly Clear: 1326\n"
          ]
        }
      ]
    },
    {
      "cell_type": "code",
      "source": [
        "# 3) Find the number of times when the 'Wind Speed was exactly 4 km/h'.\n",
        "\n",
        "wind_speed_4_count = data[data['Wind Speed_km/h'] == 4].shape[0]\n",
        "print(\"Number of times when the Wind Speed was exactly 4 km/h:\", wind_speed_4_count)"
      ],
      "metadata": {
        "colab": {
          "base_uri": "https://localhost:8080/"
        },
        "id": "NEW6jmuohNQ9",
        "outputId": "94d188c1-738e-4e69-aeca-a3c7b9bf102b"
      },
      "execution_count": 8,
      "outputs": [
        {
          "output_type": "stream",
          "name": "stdout",
          "text": [
            "Number of times when the Wind Speed was exactly 4 km/h: 474\n"
          ]
        }
      ]
    },
    {
      "cell_type": "code",
      "source": [
        "# 4) Find out all the Null Values in the data.\n",
        "\n",
        "null_values = data.isnull().sum()\n",
        "\n",
        "print(\"Null Values in the data:\")\n",
        "print(null_values)"
      ],
      "metadata": {
        "colab": {
          "base_uri": "https://localhost:8080/"
        },
        "id": "A4SZ8dKQhaPg",
        "outputId": "6f4f2598-cc74-442a-9de1-d5745bb3f046"
      },
      "execution_count": 9,
      "outputs": [
        {
          "output_type": "stream",
          "name": "stdout",
          "text": [
            "Null Values in the data:\n",
            "Date/Time           0\n",
            "Temp_C              0\n",
            "Dew Point Temp_C    0\n",
            "Rel Hum_%           0\n",
            "Wind Speed_km/h     0\n",
            "Visibility_km       0\n",
            "Press_kPa           0\n",
            "Weather             0\n",
            "dtype: int64\n"
          ]
        }
      ]
    },
    {
      "cell_type": "code",
      "source": [
        "# 5) Rename the column name 'Weather' of the dataframe to 'Weather Condition'.\n",
        "\n",
        "data.rename(columns={'Weather': 'Weather Condition'}, inplace=True)\n",
        "print(data.head())"
      ],
      "metadata": {
        "colab": {
          "base_uri": "https://localhost:8080/"
        },
        "id": "e3ANWIZjhnxC",
        "outputId": "f3377b98-f68b-4e63-925e-1b131979732a"
      },
      "execution_count": 10,
      "outputs": [
        {
          "output_type": "stream",
          "name": "stdout",
          "text": [
            "       Date/Time  Temp_C  Dew Point Temp_C  Rel Hum_%  Wind Speed_km/h  \\\n",
            "0  1/1/2012 0:00    -1.8              -3.9         86                4   \n",
            "1  1/1/2012 1:00    -1.8              -3.7         87                4   \n",
            "2  1/1/2012 2:00    -1.8              -3.4         89                7   \n",
            "3  1/1/2012 3:00    -1.5              -3.2         88                6   \n",
            "4  1/1/2012 4:00    -1.5              -3.3         88                7   \n",
            "\n",
            "   Visibility_km  Press_kPa     Weather Condition  \n",
            "0            8.0     101.24                   Fog  \n",
            "1            8.0     101.24                   Fog  \n",
            "2            4.0     101.26  Freezing Drizzle,Fog  \n",
            "3            4.0     101.27  Freezing Drizzle,Fog  \n",
            "4            4.8     101.23                   Fog  \n"
          ]
        }
      ]
    },
    {
      "cell_type": "code",
      "source": [
        "# 6) What is the mean 'Visibility' ?\n",
        "\n",
        "mean_visibility = data['Visibility_km'].mean()\n",
        "print(\"Mean Visibility:\", mean_visibility)"
      ],
      "metadata": {
        "colab": {
          "base_uri": "https://localhost:8080/"
        },
        "id": "GwyQFNyah1iV",
        "outputId": "81b9c103-f61b-4081-b93e-18f4399edc85"
      },
      "execution_count": 11,
      "outputs": [
        {
          "output_type": "stream",
          "name": "stdout",
          "text": [
            "Mean Visibility: 27.664446721311478\n"
          ]
        }
      ]
    },
    {
      "cell_type": "code",
      "source": [
        "# 7) What is the Standard Deviation of 'Pressure'  in this data?\n",
        "\n",
        "std_pressure = data['Press_kPa'].std()\n",
        "print(\"Standard Deviation of Pressure:\", std_pressure)"
      ],
      "metadata": {
        "colab": {
          "base_uri": "https://localhost:8080/"
        },
        "id": "voUW-jewiBaH",
        "outputId": "e06e39c9-c0d7-48d4-e6b0-65a22fd460b9"
      },
      "execution_count": 12,
      "outputs": [
        {
          "output_type": "stream",
          "name": "stdout",
          "text": [
            "Standard Deviation of Pressure: 0.8440047459486483\n"
          ]
        }
      ]
    },
    {
      "cell_type": "code",
      "source": [
        "# 8) What is the Variance of 'Relative Humidity' in this data ?\n",
        "\n",
        "variance_relative_humidity = data['Rel Hum_%'].var()\n",
        "print(\"Variance of Relative Humidity:\", variance_relative_humidity)"
      ],
      "metadata": {
        "colab": {
          "base_uri": "https://localhost:8080/"
        },
        "id": "a-Ma76qoiLWl",
        "outputId": "e2558b79-6c5a-4e32-b283-77b8a4806c80"
      },
      "execution_count": 13,
      "outputs": [
        {
          "output_type": "stream",
          "name": "stdout",
          "text": [
            "Variance of Relative Humidity: 286.24855019850196\n"
          ]
        }
      ]
    },
    {
      "cell_type": "code",
      "source": [
        "# 9) Find all instances when 'Snow' was recorded.\n",
        "\n",
        "snow_records = data[data['Weather Condition'].str.contains('Snow', case=False)]\n",
        "print(\"Instances when 'Snow' was recorded:\")\n",
        "print(snow_records)"
      ],
      "metadata": {
        "colab": {
          "base_uri": "https://localhost:8080/"
        },
        "id": "Z-avNlj7iYRJ",
        "outputId": "3e90b1d0-10d5-400a-ca60-2f75b269cd3a"
      },
      "execution_count": 14,
      "outputs": [
        {
          "output_type": "stream",
          "name": "stdout",
          "text": [
            "Instances when 'Snow' was recorded:\n",
            "             Date/Time  Temp_C  Dew Point Temp_C  Rel Hum_%  Wind Speed_km/h  \\\n",
            "41      1/2/2012 17:00    -2.1              -9.5         57               22   \n",
            "44      1/2/2012 20:00    -5.6             -13.4         54               24   \n",
            "45      1/2/2012 21:00    -5.8             -12.8         58               26   \n",
            "47      1/2/2012 23:00    -7.4             -14.1         59               17   \n",
            "48       1/3/2012 0:00    -9.0             -16.0         57               28   \n",
            "...                ...     ...               ...        ...              ...   \n",
            "8779  12/31/2012 19:00     0.1              -2.7         81               30   \n",
            "8780  12/31/2012 20:00     0.2              -2.4         83               24   \n",
            "8781  12/31/2012 21:00    -0.5              -1.5         93               28   \n",
            "8782  12/31/2012 22:00    -0.2              -1.8         89               28   \n",
            "8783  12/31/2012 23:00     0.0              -2.1         86               30   \n",
            "\n",
            "      Visibility_km  Press_kPa Weather Condition  \n",
            "41             25.0      99.66      Snow Showers  \n",
            "44             25.0     100.07      Snow Showers  \n",
            "45             25.0     100.15      Snow Showers  \n",
            "47             19.3     100.27      Snow Showers  \n",
            "48             25.0     100.35      Snow Showers  \n",
            "...             ...        ...               ...  \n",
            "8779            9.7     100.13              Snow  \n",
            "8780            9.7     100.03              Snow  \n",
            "8781            4.8      99.95              Snow  \n",
            "8782            9.7      99.91              Snow  \n",
            "8783           11.3      99.89              Snow  \n",
            "\n",
            "[583 rows x 8 columns]\n"
          ]
        }
      ]
    },
    {
      "cell_type": "code",
      "source": [
        "# 10) Find all instances when 'Wind Speed is above 24' and 'Visibility is 25'.\n",
        "\n",
        "filtered_data = data[(data['Wind Speed_km/h'] > 24) & (data['Visibility_km'] == 25)]\n",
        "print(\"Instances when 'Wind Speed is above 24' and 'Visibility is 25':\")\n",
        "print(filtered_data)"
      ],
      "metadata": {
        "colab": {
          "base_uri": "https://localhost:8080/"
        },
        "id": "XusbwaESiiDt",
        "outputId": "ef497793-ba0f-41d0-b7b9-28fd8e484fa2"
      },
      "execution_count": 15,
      "outputs": [
        {
          "output_type": "stream",
          "name": "stdout",
          "text": [
            "Instances when 'Wind Speed is above 24' and 'Visibility is 25':\n",
            "             Date/Time  Temp_C  Dew Point Temp_C  Rel Hum_%  Wind Speed_km/h  \\\n",
            "23      1/1/2012 23:00     5.3               2.0         79               30   \n",
            "24       1/2/2012 0:00     5.2               1.5         77               35   \n",
            "25       1/2/2012 1:00     4.6               0.0         72               39   \n",
            "26       1/2/2012 2:00     3.9              -0.9         71               32   \n",
            "27       1/2/2012 3:00     3.7              -1.5         69               33   \n",
            "...                ...     ...               ...        ...              ...   \n",
            "8705  12/28/2012 17:00    -8.6             -12.0         76               26   \n",
            "8753  12/30/2012 17:00   -12.1             -15.8         74               28   \n",
            "8755  12/30/2012 19:00   -13.4             -16.5         77               26   \n",
            "8759  12/30/2012 23:00   -12.1             -15.1         78               28   \n",
            "8760   12/31/2012 0:00   -11.1             -14.4         77               26   \n",
            "\n",
            "      Visibility_km  Press_kPa Weather Condition  \n",
            "23             25.0      99.31            Cloudy  \n",
            "24             25.0      99.26      Rain Showers  \n",
            "25             25.0      99.26            Cloudy  \n",
            "26             25.0      99.26     Mostly Cloudy  \n",
            "27             25.0      99.30     Mostly Cloudy  \n",
            "...             ...        ...               ...  \n",
            "8705           25.0     101.34      Mainly Clear  \n",
            "8753           25.0     101.26      Mainly Clear  \n",
            "8755           25.0     101.47      Mainly Clear  \n",
            "8759           25.0     101.52     Mostly Cloudy  \n",
            "8760           25.0     101.51            Cloudy  \n",
            "\n",
            "[308 rows x 8 columns]\n"
          ]
        }
      ]
    },
    {
      "cell_type": "code",
      "source": [
        "# 11) What is the Mean value of each column against each 'Weather Condition ?\n",
        "\n",
        "data = pd.read_csv(\"sample_data/weather.csv\")\n",
        "mean_values_by_weather_condition = data.groupby('Weather').mean()\n",
        "print(\"Mean value of each column against each 'Weather Condition':\")\n",
        "print(mean_values_by_weather_condition)"
      ],
      "metadata": {
        "colab": {
          "base_uri": "https://localhost:8080/"
        },
        "id": "XrRaEnMBiviL",
        "outputId": "4ca122e2-a02e-4a6b-9264-30bda7d9aade"
      },
      "execution_count": 22,
      "outputs": [
        {
          "output_type": "stream",
          "name": "stdout",
          "text": [
            "Mean value of each column against each 'Weather Condition':\n",
            "                                            Temp_C  Dew Point Temp_C  \\\n",
            "Weather                                                                \n",
            "Clear                                     6.825716          0.089367   \n",
            "Cloudy                                    7.970544          2.375810   \n",
            "Drizzle                                   7.353659          5.504878   \n",
            "Drizzle,Fog                               8.067500          7.033750   \n",
            "Drizzle,Ice Pellets,Fog                   0.400000         -0.700000   \n",
            "Drizzle,Snow                              1.050000          0.150000   \n",
            "Drizzle,Snow,Fog                          0.693333          0.120000   \n",
            "Fog                                       4.303333          3.159333   \n",
            "Freezing Drizzle                         -5.657143         -8.000000   \n",
            "Freezing Drizzle,Fog                     -2.533333         -4.183333   \n",
            "Freezing Drizzle,Haze                    -5.433333         -8.000000   \n",
            "Freezing Drizzle,Snow                    -5.109091         -7.072727   \n",
            "Freezing Fog                             -7.575000         -9.250000   \n",
            "Freezing Rain                            -3.885714         -6.078571   \n",
            "Freezing Rain,Fog                        -2.225000         -3.750000   \n",
            "Freezing Rain,Haze                       -4.900000         -7.450000   \n",
            "Freezing Rain,Ice Pellets,Fog            -2.600000         -3.700000   \n",
            "Freezing Rain,Snow Grains                -5.000000         -7.300000   \n",
            "Haze                                     -0.200000         -2.975000   \n",
            "Mainly Clear                             12.558927          4.581671   \n",
            "Moderate Rain,Fog                         1.700000          0.800000   \n",
            "Moderate Snow                            -5.525000         -7.250000   \n",
            "Moderate Snow,Blowing Snow               -5.450000         -6.500000   \n",
            "Mostly Cloudy                            10.574287          3.131174   \n",
            "Rain                                      9.786275          7.042810   \n",
            "Rain Showers                             13.722340          9.187766   \n",
            "Rain Showers,Fog                         12.800000         12.100000   \n",
            "Rain Showers,Snow Showers                 2.150000         -1.500000   \n",
            "Rain,Fog                                  8.273276          7.219828   \n",
            "Rain,Haze                                 4.633333          2.066667   \n",
            "Rain,Ice Pellets                          0.600000         -0.600000   \n",
            "Rain,Snow                                 1.055556         -0.566667   \n",
            "Rain,Snow Grains                          1.900000         -2.100000   \n",
            "Rain,Snow,Fog                             0.800000          0.300000   \n",
            "Rain,Snow,Ice Pellets                     1.100000         -0.175000   \n",
            "Snow                                     -4.524103         -7.623333   \n",
            "Snow Pellets                              0.700000         -6.400000   \n",
            "Snow Showers                             -3.506667         -7.866667   \n",
            "Snow Showers,Fog                        -10.675000        -11.900000   \n",
            "Snow,Blowing Snow                        -5.410526         -7.621053   \n",
            "Snow,Fog                                 -5.075676         -6.364865   \n",
            "Snow,Haze                                -4.020000         -6.860000   \n",
            "Snow,Ice Pellets                         -1.883333         -3.666667   \n",
            "Thunderstorms                            24.150000         19.750000   \n",
            "Thunderstorms,Heavy Rain Showers         10.900000          9.000000   \n",
            "Thunderstorms,Moderate Rain Showers,Fog  19.600000         18.500000   \n",
            "Thunderstorms,Rain                       20.433333         18.533333   \n",
            "Thunderstorms,Rain Showers               20.037500         17.618750   \n",
            "Thunderstorms,Rain Showers,Fog           21.600000         18.700000   \n",
            "Thunderstorms,Rain,Fog                   20.600000         18.600000   \n",
            "\n",
            "                                         Rel Hum_%  Wind Speed_km/h  \\\n",
            "Weather                                                               \n",
            "Clear                                    64.497738        10.557315   \n",
            "Cloudy                                   69.592593        16.127315   \n",
            "Drizzle                                  88.243902        16.097561   \n",
            "Drizzle,Fog                              93.275000        11.862500   \n",
            "Drizzle,Ice Pellets,Fog                  92.000000        20.000000   \n",
            "Drizzle,Snow                             93.500000        14.000000   \n",
            "Drizzle,Snow,Fog                         95.866667        15.533333   \n",
            "Fog                                      92.286667         7.946667   \n",
            "Freezing Drizzle                         83.571429        16.571429   \n",
            "Freezing Drizzle,Fog                     88.500000        17.000000   \n",
            "Freezing Drizzle,Haze                    82.000000        10.333333   \n",
            "Freezing Drizzle,Snow                    86.090909        16.272727   \n",
            "Freezing Fog                             87.750000         4.750000   \n",
            "Freezing Rain                            84.642857        19.214286   \n",
            "Freezing Rain,Fog                        89.500000        15.500000   \n",
            "Freezing Rain,Haze                       82.500000         7.500000   \n",
            "Freezing Rain,Ice Pellets,Fog            92.000000        28.000000   \n",
            "Freezing Rain,Snow Grains                84.000000        32.000000   \n",
            "Haze                                     81.625000        10.437500   \n",
            "Mainly Clear                             60.667142        14.144824   \n",
            "Moderate Rain,Fog                        94.000000        17.000000   \n",
            "Moderate Snow                            87.750000        33.750000   \n",
            "Moderate Snow,Blowing Snow               92.500000        40.000000   \n",
            "Mostly Cloudy                            62.102465        15.813920   \n",
            "Rain                                     83.624183        19.254902   \n",
            "Rain Showers                             75.159574        17.132979   \n",
            "Rain Showers,Fog                         96.000000        13.000000   \n",
            "Rain Showers,Snow Showers                76.500000        22.500000   \n",
            "Rain,Fog                                 93.189655        14.793103   \n",
            "Rain,Haze                                83.333333        11.666667   \n",
            "Rain,Ice Pellets                         92.000000        24.000000   \n",
            "Rain,Snow                                89.000000        28.388889   \n",
            "Rain,Snow Grains                         75.000000        26.000000   \n",
            "Rain,Snow,Fog                            96.000000         9.000000   \n",
            "Rain,Snow,Ice Pellets                    91.500000        23.250000   \n",
            "Snow                                     79.307692        20.038462   \n",
            "Snow Pellets                             59.000000        35.000000   \n",
            "Snow Showers                             72.350000        19.233333   \n",
            "Snow Showers,Fog                         90.750000        13.750000   \n",
            "Snow,Blowing Snow                        84.473684        34.842105   \n",
            "Snow,Fog                                 90.675676        17.324324   \n",
            "Snow,Haze                                80.600000         5.000000   \n",
            "Snow,Ice Pellets                         87.666667        23.833333   \n",
            "Thunderstorms                            77.000000         7.500000   \n",
            "Thunderstorms,Heavy Rain Showers         88.000000         9.000000   \n",
            "Thunderstorms,Moderate Rain Showers,Fog  93.000000        15.000000   \n",
            "Thunderstorms,Rain                       89.000000        15.666667   \n",
            "Thunderstorms,Rain Showers               86.375000        18.312500   \n",
            "Thunderstorms,Rain Showers,Fog           84.000000        19.666667   \n",
            "Thunderstorms,Rain,Fog                   88.000000        19.000000   \n",
            "\n",
            "                                         Visibility_km   Press_kPa  \n",
            "Weather                                                             \n",
            "Clear                                        30.153243  101.587443  \n",
            "Cloudy                                       26.625752  100.911441  \n",
            "Drizzle                                      17.931707  100.435366  \n",
            "Drizzle,Fog                                   5.257500  100.786625  \n",
            "Drizzle,Ice Pellets,Fog                       4.000000  100.790000  \n",
            "Drizzle,Snow                                 10.500000  100.890000  \n",
            "Drizzle,Snow,Fog                              5.513333   99.281333  \n",
            "Fog                                           6.248000  101.184067  \n",
            "Freezing Drizzle                              9.200000  100.202857  \n",
            "Freezing Drizzle,Fog                          5.266667  100.441667  \n",
            "Freezing Drizzle,Haze                         2.666667  100.316667  \n",
            "Freezing Drizzle,Snow                         5.872727  100.520909  \n",
            "Freezing Fog                                  0.650000  102.320000  \n",
            "Freezing Rain                                 8.242857   99.647143  \n",
            "Freezing Rain,Fog                             7.550000   99.945000  \n",
            "Freezing Rain,Haze                            2.400000  100.375000  \n",
            "Freezing Rain,Ice Pellets,Fog                 8.000000  100.950000  \n",
            "Freezing Rain,Snow Grains                     4.800000   98.560000  \n",
            "Haze                                          7.831250  101.482500  \n",
            "Mainly Clear                                 34.264862  101.248832  \n",
            "Moderate Rain,Fog                             6.400000   99.980000  \n",
            "Moderate Snow                                 0.750000  100.275000  \n",
            "Moderate Snow,Blowing Snow                    0.600000  100.570000  \n",
            "Mostly Cloudy                                31.253842  101.025288  \n",
            "Rain                                         18.856536  100.233333  \n",
            "Rain Showers                                 22.816489  100.404043  \n",
            "Rain Showers,Fog                              6.400000   99.830000  \n",
            "Rain Showers,Snow Showers                    21.700000  101.100000  \n",
            "Rain,Fog                                      6.873276  100.500862  \n",
            "Rain,Haze                                     6.700000  100.540000  \n",
            "Rain,Ice Pellets                              9.700000  100.120000  \n",
            "Rain,Snow                                    11.672222   99.951111  \n",
            "Rain,Snow Grains                             25.000000  100.600000  \n",
            "Rain,Snow,Fog                                 6.400000  100.730000  \n",
            "Rain,Snow,Ice Pellets                         6.000000  100.105000  \n",
            "Snow                                         11.171795  100.536103  \n",
            "Snow Pellets                                  2.400000   99.700000  \n",
            "Snow Showers                                 20.158333  100.963500  \n",
            "Snow Showers,Fog                              7.025000  101.292500  \n",
            "Snow,Blowing Snow                             4.105263   99.704737  \n",
            "Snow,Fog                                      4.537838  100.688649  \n",
            "Snow,Haze                                     4.640000  100.782000  \n",
            "Snow,Ice Pellets                              7.416667  100.548333  \n",
            "Thunderstorms                                24.550000  100.230000  \n",
            "Thunderstorms,Heavy Rain Showers              2.400000  100.260000  \n",
            "Thunderstorms,Moderate Rain Showers,Fog       3.200000  100.010000  \n",
            "Thunderstorms,Rain                           19.833333  100.420000  \n",
            "Thunderstorms,Rain Showers                   15.893750  100.233750  \n",
            "Thunderstorms,Rain Showers,Fog                9.700000  100.063333  \n",
            "Thunderstorms,Rain,Fog                        4.800000  100.080000  \n"
          ]
        },
        {
          "output_type": "stream",
          "name": "stderr",
          "text": [
            "<ipython-input-22-17683a4f66ec>:9: FutureWarning: The default value of numeric_only in DataFrameGroupBy.mean is deprecated. In a future version, numeric_only will default to False. Either specify numeric_only or select only columns which should be valid for the function.\n",
            "  mean_values_by_weather_condition = data.groupby('Weather').mean()\n"
          ]
        }
      ]
    },
    {
      "source": [
        "# 12) What is the Minimum & Maximum value of each column against each 'Weather Condition ?\n",
        "\n",
        "aggregation_functions = {\n",
        "    'Temp_C': ['min', 'max'],\n",
        "    'Dew Point Temp_C': ['min', 'max'],\n",
        "    'Rel Hum_%': ['min', 'max'],\n",
        "    'Wind Speed_km/h': ['min', 'max'],\n",
        "    'Visibility_km': ['min', 'max'],\n",
        "    'Press_kPa': ['min', 'max']\n",
        "}\n",
        "\n",
        "min_max_values_by_weather_condition = data.groupby('Weather').agg(aggregation_functions)\n",
        "\n",
        "print(\"Minimum and Maximum value of each column against each 'Weather Condition':\")\n",
        "print(min_max_values_by_weather_condition)\n"
      ],
      "cell_type": "code",
      "metadata": {
        "colab": {
          "base_uri": "https://localhost:8080/"
        },
        "id": "shvOzHQhjvkI",
        "outputId": "04964c18-278b-4656-e967-2cbfbf0dd195"
      },
      "execution_count": 23,
      "outputs": [
        {
          "output_type": "stream",
          "name": "stdout",
          "text": [
            "Minimum and Maximum value of each column against each 'Weather Condition':\n",
            "                                        Temp_C       Dew Point Temp_C        \\\n",
            "                                           min   max              min   max   \n",
            "Weather                                                                       \n",
            "Clear                                    -23.3  32.8            -28.5  20.4   \n",
            "Cloudy                                   -21.4  30.5            -26.8  22.6   \n",
            "Drizzle                                    1.1  18.8             -0.2  17.7   \n",
            "Drizzle,Fog                                0.0  19.9             -1.6  19.1   \n",
            "Drizzle,Ice Pellets,Fog                    0.4   0.4             -0.7  -0.7   \n",
            "Drizzle,Snow                               0.9   1.2              0.1   0.2   \n",
            "Drizzle,Snow,Fog                           0.3   1.1             -0.1   0.6   \n",
            "Fog                                      -16.0  20.8            -17.2  19.6   \n",
            "Freezing Drizzle                          -9.0  -2.3            -12.2  -3.3   \n",
            "Freezing Drizzle,Fog                      -6.4  -0.3             -9.0  -2.3   \n",
            "Freezing Drizzle,Haze                     -5.8  -5.0             -8.3  -7.7   \n",
            "Freezing Drizzle,Snow                     -8.3  -3.3            -10.4  -4.6   \n",
            "Freezing Fog                             -19.0  -0.1            -22.9  -0.3   \n",
            "Freezing Rain                             -6.5   0.3             -9.0  -1.7   \n",
            "Freezing Rain,Fog                         -6.1   0.1             -8.7  -0.9   \n",
            "Freezing Rain,Haze                        -4.9  -4.9             -7.5  -7.4   \n",
            "Freezing Rain,Ice Pellets,Fog             -2.6  -2.6             -3.7  -3.7   \n",
            "Freezing Rain,Snow Grains                 -5.0  -5.0             -7.3  -7.3   \n",
            "Haze                                     -11.5  14.1            -16.0  11.1   \n",
            "Mainly Clear                             -22.8  33.0            -28.0  21.2   \n",
            "Moderate Rain,Fog                          1.7   1.7              0.8   0.8   \n",
            "Moderate Snow                             -6.3  -4.9             -7.6  -6.7   \n",
            "Moderate Snow,Blowing Snow                -5.5  -5.4             -6.6  -6.4   \n",
            "Mostly Cloudy                            -23.2  32.4            -28.5  24.4   \n",
            "Rain                                       0.3  22.8             -5.7  20.4   \n",
            "Rain Showers                               1.6  26.4             -7.2  23.0   \n",
            "Rain Showers,Fog                          12.8  12.8             12.1  12.1   \n",
            "Rain Showers,Snow Showers                  2.1   2.2             -1.8  -1.2   \n",
            "Rain,Fog                                   0.0  21.7             -1.2  19.5   \n",
            "Rain,Haze                                  4.0   5.5              1.0   2.9   \n",
            "Rain,Ice Pellets                           0.6   0.6             -0.6  -0.6   \n",
            "Rain,Snow                                  0.6   1.7             -1.7   0.5   \n",
            "Rain,Snow Grains                           1.9   1.9             -2.1  -2.1   \n",
            "Rain,Snow,Fog                              0.8   0.8              0.3   0.3   \n",
            "Rain,Snow,Ice Pellets                      0.9   1.3             -0.7   0.1   \n",
            "Snow                                     -16.7   3.7            -24.6   0.3   \n",
            "Snow Pellets                               0.7   0.7             -6.4  -6.4   \n",
            "Snow Showers                             -13.3   2.9            -19.3  -0.7   \n",
            "Snow Showers,Fog                         -11.3 -10.0            -12.7 -11.1   \n",
            "Snow,Blowing Snow                        -12.0  -1.4            -16.2  -2.9   \n",
            "Snow,Fog                                 -10.1   1.1            -12.0   0.8   \n",
            "Snow,Haze                                 -4.3  -3.6             -7.2  -6.4   \n",
            "Snow,Ice Pellets                          -4.3   0.8             -5.9  -1.7   \n",
            "Thunderstorms                             21.6  26.7             19.4  20.1   \n",
            "Thunderstorms,Heavy Rain Showers          10.9  10.9              9.0   9.0   \n",
            "Thunderstorms,Moderate Rain Showers,Fog   19.6  19.6             18.5  18.5   \n",
            "Thunderstorms,Rain                        19.4  21.3             18.2  19.1   \n",
            "Thunderstorms,Rain Showers                11.0  25.5              7.0  23.1   \n",
            "Thunderstorms,Rain Showers,Fog            19.5  22.9             16.1  21.3   \n",
            "Thunderstorms,Rain,Fog                    20.6  20.6             18.6  18.6   \n",
            "\n",
            "                                        Rel Hum_%      Wind Speed_km/h      \\\n",
            "                                              min  max             min max   \n",
            "Weather                                                                      \n",
            "Clear                                          20   99               0  33   \n",
            "Cloudy                                         18   99               0  54   \n",
            "Drizzle                                        74   96               0  30   \n",
            "Drizzle,Fog                                    85  100               0  28   \n",
            "Drizzle,Ice Pellets,Fog                        92   92              20  20   \n",
            "Drizzle,Snow                                   92   95               9  19   \n",
            "Drizzle,Snow,Fog                               92   98               7  32   \n",
            "Fog                                            80  100               0  22   \n",
            "Freezing Drizzle                               78   93               6  26   \n",
            "Freezing Drizzle,Fog                           82   94               6  33   \n",
            "Freezing Drizzle,Haze                          81   83               9  11   \n",
            "Freezing Drizzle,Snow                          79   94               6  24   \n",
            "Freezing Fog                                   71   99               0   9   \n",
            "Freezing Rain                                  81   92               7  28   \n",
            "Freezing Rain,Fog                              82   93               7  26   \n",
            "Freezing Rain,Haze                             82   83               6   9   \n",
            "Freezing Rain,Ice Pellets,Fog                  92   92              28  28   \n",
            "Freezing Rain,Snow Grains                      84   84              32  32   \n",
            "Haze                                           68   86               0  17   \n",
            "Mainly Clear                                   20   99               0  63   \n",
            "Moderate Rain,Fog                              94   94              17  17   \n",
            "Moderate Snow                                  83   93              26  39   \n",
            "Moderate Snow,Blowing Snow                     92   93              39  41   \n",
            "Mostly Cloudy                                  18  100               0  83   \n",
            "Rain                                           40   99               0  52   \n",
            "Rain Showers                                   37   97               0  41   \n",
            "Rain Showers,Fog                               96   96              13  13   \n",
            "Rain Showers,Snow Showers                      75   78              17  28   \n",
            "Rain,Fog                                       83  100               0  46   \n",
            "Rain,Haze                                      81   86               7  17   \n",
            "Rain,Ice Pellets                               92   92              24  24   \n",
            "Rain,Snow                                      81   94              13  52   \n",
            "Rain,Snow Grains                               75   75              26  26   \n",
            "Rain,Snow,Fog                                  96   96               9   9   \n",
            "Rain,Snow,Ice Pellets                          88   94              17  28   \n",
            "Snow                                           41   96               0  57   \n",
            "Snow Pellets                                   59   59              35  35   \n",
            "Snow Showers                                   52   94               0  37   \n",
            "Snow Showers,Fog                               89   92               7  22   \n",
            "Snow,Blowing Snow                              70   91              24  48   \n",
            "Snow,Fog                                       77   99               4  35   \n",
            "Snow,Haze                                      80   81               0  15   \n",
            "Snow,Ice Pellets                               76   92              19  33   \n",
            "Thunderstorms                                  67   87               0  15   \n",
            "Thunderstorms,Heavy Rain Showers               88   88               9   9   \n",
            "Thunderstorms,Moderate Rain Showers,Fog        93   93              15  15   \n",
            "Thunderstorms,Rain                             83   93               4  30   \n",
            "Thunderstorms,Rain Showers                     68   98               7  32   \n",
            "Thunderstorms,Rain Showers,Fog                 80   91               7  35   \n",
            "Thunderstorms,Rain,Fog                         88   88              19  19   \n",
            "\n",
            "                                        Visibility_km       Press_kPa          \n",
            "                                                  min   max       min     max  \n",
            "Weather                                                                        \n",
            "Clear                                            11.3  48.3     99.52  103.63  \n",
            "Cloudy                                           11.3  48.3     98.39  103.65  \n",
            "Drizzle                                           6.4  25.0     97.84  101.56  \n",
            "Drizzle,Fog                                       1.0   9.7     98.65  102.07  \n",
            "Drizzle,Ice Pellets,Fog                           4.0   4.0    100.79  100.79  \n",
            "Drizzle,Snow                                      9.7  11.3    100.63  101.15  \n",
            "Drizzle,Snow,Fog                                  2.4   9.7     97.79  100.15  \n",
            "Fog                                               0.2   9.7     98.31  103.04  \n",
            "Freezing Drizzle                                  4.8  12.9     98.44  101.02  \n",
            "Freezing Drizzle,Fog                              3.6   8.0     98.74  101.27  \n",
            "Freezing Drizzle,Haze                             2.0   4.0    100.28  100.36  \n",
            "Freezing Drizzle,Snow                             2.4  12.9     99.19  101.18  \n",
            "Freezing Fog                                      0.2   0.8    101.97  102.85  \n",
            "Freezing Rain                                     2.8  16.1     98.22  101.00  \n",
            "Freezing Rain,Fog                                 2.8   9.7     98.32  101.01  \n",
            "Freezing Rain,Haze                                2.0   2.8    100.34  100.41  \n",
            "Freezing Rain,Ice Pellets,Fog                     8.0   8.0    100.95  100.95  \n",
            "Freezing Rain,Snow Grains                         4.8   4.8     98.56   98.56  \n",
            "Haze                                              4.8   9.7    100.35  102.97  \n",
            "Mainly Clear                                     12.9  48.3     98.67  103.59  \n",
            "Moderate Rain,Fog                                 6.4   6.4     99.98   99.98  \n",
            "Moderate Snow                                     0.6   0.8     99.88  100.67  \n",
            "Moderate Snow,Blowing Snow                        0.6   0.6    100.50  100.64  \n",
            "Mostly Cloudy                                    11.3  48.3     98.36  103.65  \n",
            "Rain                                              4.0  48.3     97.52  102.26  \n",
            "Rain Showers                                      6.4  48.3     98.51  102.31  \n",
            "Rain Showers,Fog                                  6.4   6.4     99.83   99.83  \n",
            "Rain Showers,Snow Showers                        19.3  24.1    101.09  101.11  \n",
            "Rain,Fog                                          2.0   9.7     98.61  101.77  \n",
            "Rain,Haze                                         4.0   9.7    100.50  100.61  \n",
            "Rain,Ice Pellets                                  9.7   9.7    100.12  100.12  \n",
            "Rain,Snow                                         2.4  25.0     98.18  101.07  \n",
            "Rain,Snow Grains                                 25.0  25.0    100.60  100.60  \n",
            "Rain,Snow,Fog                                     6.4   6.4    100.73  100.73  \n",
            "Rain,Snow,Ice Pellets                             4.8   6.4     99.85  100.47  \n",
            "Snow                                              1.0  25.0     97.75  102.73  \n",
            "Snow Pellets                                      2.4   2.4     99.70   99.70  \n",
            "Snow Showers                                      2.4  48.3     99.49  102.50  \n",
            "Snow Showers,Fog                                  4.0   9.7    100.63  102.52  \n",
            "Snow,Blowing Snow                                 0.6   9.7     98.11  100.62  \n",
            "Snow,Fog                                          1.2   9.7     99.38  102.07  \n",
            "Snow,Haze                                         4.0   6.4    100.61  100.99  \n",
            "Snow,Ice Pellets                                  2.8  11.3     99.40  100.96  \n",
            "Thunderstorms                                    24.1  25.0     99.84  100.62  \n",
            "Thunderstorms,Heavy Rain Showers                  2.4   2.4    100.26  100.26  \n",
            "Thunderstorms,Moderate Rain Showers,Fog           3.2   3.2    100.01  100.01  \n",
            "Thunderstorms,Rain                               16.1  24.1    100.19  100.83  \n",
            "Thunderstorms,Rain Showers                        6.4  25.0     99.65  101.06  \n",
            "Thunderstorms,Rain Showers,Fog                    9.7   9.7     99.71  100.64  \n",
            "Thunderstorms,Rain,Fog                            4.8   4.8    100.08  100.08  \n"
          ]
        }
      ]
    },
    {
      "cell_type": "code",
      "source": [
        "# 13) Show all the Records where Weather Condition is Fog.\n",
        "\n",
        "fog_records = data[data['Weather'].str.lower() == 'fog']\n",
        "print(\"Records where 'Weather Condition' is 'Fog':\")\n",
        "print(fog_records)\n"
      ],
      "metadata": {
        "colab": {
          "base_uri": "https://localhost:8080/"
        },
        "id": "UCwWGo_Ui6S0",
        "outputId": "830e5558-465a-45c2-b6c8-dc78b2e69261"
      },
      "execution_count": 25,
      "outputs": [
        {
          "output_type": "stream",
          "name": "stdout",
          "text": [
            "Records where 'Weather Condition' is 'Fog':\n",
            "             Date/Time  Temp_C  Dew Point Temp_C  Rel Hum_%  Wind Speed_km/h  \\\n",
            "0        1/1/2012 0:00    -1.8              -3.9         86                4   \n",
            "1        1/1/2012 1:00    -1.8              -3.7         87                4   \n",
            "4        1/1/2012 4:00    -1.5              -3.3         88                7   \n",
            "5        1/1/2012 5:00    -1.4              -3.3         87                9   \n",
            "6        1/1/2012 6:00    -1.5              -3.1         89                7   \n",
            "...                ...     ...               ...        ...              ...   \n",
            "8716   12/29/2012 4:00   -16.0             -17.2         90                6   \n",
            "8717   12/29/2012 5:00   -14.8             -15.9         91                4   \n",
            "8718   12/29/2012 6:00   -13.8             -15.3         88                4   \n",
            "8719   12/29/2012 7:00   -14.8             -16.4         88                7   \n",
            "8722  12/29/2012 10:00   -12.0             -13.3         90                7   \n",
            "\n",
            "      Visibility_km  Press_kPa Weather  \n",
            "0               8.0     101.24     Fog  \n",
            "1               8.0     101.24     Fog  \n",
            "4               4.8     101.23     Fog  \n",
            "5               6.4     101.27     Fog  \n",
            "6               6.4     101.29     Fog  \n",
            "...             ...        ...     ...  \n",
            "8716            9.7     101.25     Fog  \n",
            "8717            6.4     101.25     Fog  \n",
            "8718            9.7     101.25     Fog  \n",
            "8719            8.0     101.22     Fog  \n",
            "8722            6.4     101.15     Fog  \n",
            "\n",
            "[150 rows x 8 columns]\n"
          ]
        }
      ]
    },
    {
      "cell_type": "code",
      "source": [
        "# 14) Find all instances when 'Weather is Clear' or 'Visibility is above 40'\n",
        "\n",
        "filtered_data = data[(data['Weather'].str.lower() == 'clear') | (data['Visibility_km'] > 40)]\n",
        "\n",
        "print(\"Instances when 'Weather is Clear' or 'Visibility is above 40':\")\n",
        "print(filtered_data)\n"
      ],
      "metadata": {
        "colab": {
          "base_uri": "https://localhost:8080/"
        },
        "id": "1accW4hikyql",
        "outputId": "70c47942-f32f-4b78-814d-e7f460a9099a"
      },
      "execution_count": 26,
      "outputs": [
        {
          "output_type": "stream",
          "name": "stdout",
          "text": [
            "Instances when 'Weather is Clear' or 'Visibility is above 40':\n",
            "             Date/Time  Temp_C  Dew Point Temp_C  Rel Hum_%  Wind Speed_km/h  \\\n",
            "67      1/3/2012 19:00   -16.9             -24.8         50               24   \n",
            "106     1/5/2012 10:00    -6.0             -10.0         73               17   \n",
            "107     1/5/2012 11:00    -5.6             -10.2         70               22   \n",
            "108     1/5/2012 12:00    -4.7              -9.6         69               20   \n",
            "109     1/5/2012 13:00    -4.4              -9.7         66               26   \n",
            "...                ...     ...               ...        ...              ...   \n",
            "8749  12/30/2012 13:00   -12.4             -16.2         73               37   \n",
            "8750  12/30/2012 14:00   -11.8             -16.1         70               37   \n",
            "8751  12/30/2012 15:00   -11.3             -15.6         70               32   \n",
            "8752  12/30/2012 16:00   -11.4             -15.5         72               26   \n",
            "8756  12/30/2012 20:00   -13.8             -16.5         80               24   \n",
            "\n",
            "      Visibility_km  Press_kPa        Weather  \n",
            "67             25.0     101.74          Clear  \n",
            "106            48.3     100.45   Mainly Clear  \n",
            "107            48.3     100.41   Mainly Clear  \n",
            "108            48.3     100.38   Mainly Clear  \n",
            "109            48.3     100.40   Mainly Clear  \n",
            "...             ...        ...            ...  \n",
            "8749           48.3     100.92  Mostly Cloudy  \n",
            "8750           48.3     100.96   Mainly Clear  \n",
            "8751           48.3     101.05   Mainly Clear  \n",
            "8752           48.3     101.15   Mainly Clear  \n",
            "8756           25.0     101.52          Clear  \n",
            "\n",
            "[3027 rows x 8 columns]\n"
          ]
        }
      ]
    },
    {
      "cell_type": "code",
      "source": [
        "\"\"\"\n",
        "15) Find all instances when :\n",
        "A. 'Weather is Clear' and 'Relative Humidity is greater than 50'\n",
        "or\n",
        "B. 'Visibility is above 40'\n",
        "\"\"\"\n",
        "\n",
        "filtered_data = data[((data['Weather'].str.lower() == 'clear') & (data['Rel Hum_%'] > 50)) | (data['Visibility_km'] > 40)]\n",
        "\n",
        "# Print the DataFrame containing instances when either condition A or condition B is met\n",
        "print(\"Instances when 'Weather is Clear' and 'Relative Humidity is greater than 50' or 'Visibility is above 40':\")\n",
        "print(filtered_data)\n"
      ],
      "metadata": {
        "colab": {
          "base_uri": "https://localhost:8080/"
        },
        "id": "jPYOQ7kolBBx",
        "outputId": "2028bc3a-befc-4805-ab0d-8683578058f2"
      },
      "execution_count": 28,
      "outputs": [
        {
          "output_type": "stream",
          "name": "stdout",
          "text": [
            "Instances when 'Weather is Clear' and 'Relative Humidity is greater than 50' or 'Visibility is above 40':\n",
            "             Date/Time  Temp_C  Dew Point Temp_C  Rel Hum_%  Wind Speed_km/h  \\\n",
            "106     1/5/2012 10:00    -6.0             -10.0         73               17   \n",
            "107     1/5/2012 11:00    -5.6             -10.2         70               22   \n",
            "108     1/5/2012 12:00    -4.7              -9.6         69               20   \n",
            "109     1/5/2012 13:00    -4.4              -9.7         66               26   \n",
            "110     1/5/2012 14:00    -5.1             -10.7         65               22   \n",
            "...                ...     ...               ...        ...              ...   \n",
            "8749  12/30/2012 13:00   -12.4             -16.2         73               37   \n",
            "8750  12/30/2012 14:00   -11.8             -16.1         70               37   \n",
            "8751  12/30/2012 15:00   -11.3             -15.6         70               32   \n",
            "8752  12/30/2012 16:00   -11.4             -15.5         72               26   \n",
            "8756  12/30/2012 20:00   -13.8             -16.5         80               24   \n",
            "\n",
            "      Visibility_km  Press_kPa        Weather  \n",
            "106            48.3     100.45   Mainly Clear  \n",
            "107            48.3     100.41   Mainly Clear  \n",
            "108            48.3     100.38   Mainly Clear  \n",
            "109            48.3     100.40   Mainly Clear  \n",
            "110            48.3     100.46   Mainly Clear  \n",
            "...             ...        ...            ...  \n",
            "8749           48.3     100.92  Mostly Cloudy  \n",
            "8750           48.3     100.96   Mainly Clear  \n",
            "8751           48.3     101.05   Mainly Clear  \n",
            "8752           48.3     101.15   Mainly Clear  \n",
            "8756           25.0     101.52          Clear  \n",
            "\n",
            "[2921 rows x 8 columns]\n"
          ]
        }
      ]
    },
    {
      "cell_type": "code",
      "source": [],
      "metadata": {
        "id": "Qdycj7TzllPC"
      },
      "execution_count": null,
      "outputs": []
    }
  ]
}